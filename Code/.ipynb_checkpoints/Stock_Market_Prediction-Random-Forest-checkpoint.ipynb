{
 "cells": [
  {
   "cell_type": "code",
   "execution_count": null,
   "metadata": {},
   "outputs": [],
   "source": []
  },
  {
   "cell_type": "code",
   "execution_count": 1,
   "metadata": {},
   "outputs": [
    {
     "name": "stdout",
     "output_type": "stream",
     "text": [
      "no change     /Users/aesthetic/opt/anaconda3/condabin/conda\n",
      "no change     /Users/aesthetic/opt/anaconda3/bin/conda\n",
      "no change     /Users/aesthetic/opt/anaconda3/bin/conda-env\n",
      "no change     /Users/aesthetic/opt/anaconda3/bin/activate\n",
      "no change     /Users/aesthetic/opt/anaconda3/bin/deactivate\n",
      "no change     /Users/aesthetic/opt/anaconda3/etc/profile.d/conda.sh\n",
      "no change     /Users/aesthetic/opt/anaconda3/etc/fish/conf.d/conda.fish\n",
      "no change     /Users/aesthetic/opt/anaconda3/shell/condabin/Conda.psm1\n",
      "no change     /Users/aesthetic/opt/anaconda3/shell/condabin/conda-hook.ps1\n",
      "no change     /Users/aesthetic/opt/anaconda3/lib/python3.8/site-packages/xontrib/conda.xsh\n",
      "no change     /Users/aesthetic/opt/anaconda3/etc/profile.d/conda.csh\n",
      "no change     /Users/aesthetic/.bash_profile\n",
      "No action taken.\n",
      "\n",
      "Note: you may need to restart the kernel to use updated packages.\n"
     ]
    }
   ],
   "source": [
    "conda init"
   ]
  },
  {
   "cell_type": "code",
   "execution_count": 2,
   "metadata": {},
   "outputs": [
    {
     "name": "stdout",
     "output_type": "stream",
     "text": [
      "Requirement already satisfied: alpha_vantage in /Users/aesthetic/opt/anaconda3/lib/python3.8/site-packages (2.3.1)\n",
      "Requirement already satisfied: pandas in /Users/aesthetic/opt/anaconda3/lib/python3.8/site-packages (1.1.3)\n",
      "Requirement already satisfied: aiohttp in /Users/aesthetic/opt/anaconda3/lib/python3.8/site-packages (from alpha_vantage) (3.7.3)\n",
      "Requirement already satisfied: requests in /Users/aesthetic/opt/anaconda3/lib/python3.8/site-packages (from alpha_vantage) (2.24.0)\n",
      "Requirement already satisfied: python-dateutil>=2.7.3 in /Users/aesthetic/opt/anaconda3/lib/python3.8/site-packages (from pandas) (2.8.1)\n",
      "Requirement already satisfied: numpy>=1.15.4 in /Users/aesthetic/opt/anaconda3/lib/python3.8/site-packages (from pandas) (1.19.2)\n",
      "Requirement already satisfied: pytz>=2017.2 in /Users/aesthetic/opt/anaconda3/lib/python3.8/site-packages (from pandas) (2020.1)\n",
      "Requirement already satisfied: async-timeout<4.0,>=3.0 in /Users/aesthetic/opt/anaconda3/lib/python3.8/site-packages (from aiohttp->alpha_vantage) (3.0.1)\n",
      "Requirement already satisfied: chardet<4.0,>=2.0 in /Users/aesthetic/opt/anaconda3/lib/python3.8/site-packages (from aiohttp->alpha_vantage) (3.0.4)\n",
      "Requirement already satisfied: typing-extensions>=3.6.5 in /Users/aesthetic/opt/anaconda3/lib/python3.8/site-packages (from aiohttp->alpha_vantage) (3.7.4.3)\n",
      "Requirement already satisfied: attrs>=17.3.0 in /Users/aesthetic/opt/anaconda3/lib/python3.8/site-packages (from aiohttp->alpha_vantage) (20.3.0)\n",
      "Requirement already satisfied: multidict<7.0,>=4.5 in /Users/aesthetic/opt/anaconda3/lib/python3.8/site-packages (from aiohttp->alpha_vantage) (5.1.0)\n",
      "Requirement already satisfied: yarl<2.0,>=1.0 in /Users/aesthetic/opt/anaconda3/lib/python3.8/site-packages (from aiohttp->alpha_vantage) (1.6.3)\n",
      "Requirement already satisfied: idna<3,>=2.5 in /Users/aesthetic/opt/anaconda3/lib/python3.8/site-packages (from requests->alpha_vantage) (2.10)\n",
      "Requirement already satisfied: urllib3!=1.25.0,!=1.25.1,<1.26,>=1.21.1 in /Users/aesthetic/opt/anaconda3/lib/python3.8/site-packages (from requests->alpha_vantage) (1.25.11)\n",
      "Requirement already satisfied: certifi>=2017.4.17 in /Users/aesthetic/opt/anaconda3/lib/python3.8/site-packages (from requests->alpha_vantage) (2020.6.20)\n",
      "Requirement already satisfied: six>=1.5 in /Users/aesthetic/opt/anaconda3/lib/python3.8/site-packages (from python-dateutil>=2.7.3->pandas) (1.15.0)\n",
      "Note: you may need to restart the kernel to use updated packages.\n"
     ]
    }
   ],
   "source": [
    "pip install alpha_vantage pandas\n"
   ]
  },
  {
   "cell_type": "code",
   "execution_count": 3,
   "metadata": {},
   "outputs": [],
   "source": [
    "from alpha_vantage.timeseries import TimeSeries\n",
    "from pprint import pprint\n",
    "from alpha_vantage.techindicators import TechIndicators\n",
    "from datetime import date\n",
    "from datetime import timedelta\n",
    "\n",
    "import matplotlib.pyplot as plt \n",
    "import sys\n",
    "import pandas as pd\n",
    "import time\n",
    "from sklearn.model_selection import train_test_split\n",
    "from sklearn.preprocessing import LabelEncoder\n",
    "from sklearn.tree import DecisionTreeClassifier\n",
    "import numpy as np\n",
    "\n"
   ]
  },
  {
   "cell_type": "code",
   "execution_count": 26,
   "metadata": {},
   "outputs": [
    {
     "name": "stderr",
     "output_type": "stream",
     "text": [
      "<ipython-input-26-ea0ffbbf0c4d>:18: SettingWithCopyWarning: \n",
      "A value is trying to be set on a copy of a slice from a DataFrame.\n",
      "Try using .loc[row_indexer,col_indexer] = value instead\n",
      "\n",
      "See the caveats in the documentation: https://pandas.pydata.org/pandas-docs/stable/user_guide/indexing.html#returning-a-view-versus-a-copy\n",
      "  data_date_changed['Ticker']= sym\n"
     ]
    }
   ],
   "source": [
    "# Obtaining stock data from alpha vantage \n",
    "sym='AAPL'\n",
    "\n",
    "\n",
    "\n",
    "\n",
    "ticker_list=['MS', 'BT-A.L', 'TSLA', 'PFE' ]\n",
    "\n",
    "column_names=['1. open', '2. high', '3. low', '4. close', '5. adjusted close', '6. volume', \n",
    "               '7. dividend amount', '8. split coefficient', 'Ticker']\n",
    "#obtains stock data from the previous day date to 2018-11-29\n",
    "\n",
    "\n",
    "def stock_data(sym):\n",
    "    ts = TimeSeries(key='SUXOFAIGXM6HEP9Y', output_format='pandas')\n",
    "    data, meta_data = ts.get_daily_adjusted(symbol=sym, outputsize='full')\n",
    "    data_date_changed = data[:'2019-01-01']\n",
    "    data_date_changed['Ticker']= sym\n",
    "    return data_date_changed\n",
    "\n",
    "\n",
    "data_dated = pd.DataFrame(columns = column_names)\n",
    "\n",
    "\n",
    "for ticker in ticker_list:\n",
    "    data_dated = data_dated.append(stock_data(ticker), sort=False)\n"
   ]
  },
  {
   "cell_type": "code",
   "execution_count": 42,
   "metadata": {},
   "outputs": [],
   "source": [
    "data_dated['date']= data_dated.index"
   ]
  },
  {
   "cell_type": "code",
   "execution_count": 43,
   "metadata": {},
   "outputs": [],
   "source": [
    "data_dated.sort_index(inplace=True)\n",
    "data_dated.sort_values(by = ['Ticker','date'], inplace = True)\n",
    "\n",
    "\n",
    "data_dated['change_in_price']= data_dated['4. close'].diff()"
   ]
  },
  {
   "cell_type": "code",
   "execution_count": 45,
   "metadata": {},
   "outputs": [
    {
     "data": {
      "text/html": [
       "<div>\n",
       "<style scoped>\n",
       "    .dataframe tbody tr th:only-of-type {\n",
       "        vertical-align: middle;\n",
       "    }\n",
       "\n",
       "    .dataframe tbody tr th {\n",
       "        vertical-align: top;\n",
       "    }\n",
       "\n",
       "    .dataframe thead th {\n",
       "        text-align: right;\n",
       "    }\n",
       "</style>\n",
       "<table border=\"1\" class=\"dataframe\">\n",
       "  <thead>\n",
       "    <tr style=\"text-align: right;\">\n",
       "      <th></th>\n",
       "      <th>1. open</th>\n",
       "      <th>2. high</th>\n",
       "      <th>3. low</th>\n",
       "      <th>4. close</th>\n",
       "      <th>5. adjusted close</th>\n",
       "      <th>6. volume</th>\n",
       "      <th>7. dividend amount</th>\n",
       "      <th>8. split coefficient</th>\n",
       "      <th>Ticker</th>\n",
       "      <th>date</th>\n",
       "      <th>change_in_price</th>\n",
       "    </tr>\n",
       "  </thead>\n",
       "  <tbody>\n",
       "    <tr>\n",
       "      <th>2019-01-02</th>\n",
       "      <td>237.00</td>\n",
       "      <td>242.20</td>\n",
       "      <td>233.25</td>\n",
       "      <td>240.00</td>\n",
       "      <td>220.802700</td>\n",
       "      <td>20278421.0</td>\n",
       "      <td>0.0</td>\n",
       "      <td>1.0</td>\n",
       "      <td>BT-A.L</td>\n",
       "      <td>2019-01-02</td>\n",
       "      <td>NaN</td>\n",
       "    </tr>\n",
       "    <tr>\n",
       "      <th>2019-01-02</th>\n",
       "      <td>39.02</td>\n",
       "      <td>40.72</td>\n",
       "      <td>38.76</td>\n",
       "      <td>40.40</td>\n",
       "      <td>37.935801</td>\n",
       "      <td>10648013.0</td>\n",
       "      <td>0.0</td>\n",
       "      <td>1.0</td>\n",
       "      <td>MS</td>\n",
       "      <td>2019-01-02</td>\n",
       "      <td>NaN</td>\n",
       "    </tr>\n",
       "    <tr>\n",
       "      <th>2019-01-02</th>\n",
       "      <td>43.12</td>\n",
       "      <td>43.50</td>\n",
       "      <td>42.64</td>\n",
       "      <td>43.25</td>\n",
       "      <td>37.587547</td>\n",
       "      <td>25076212.0</td>\n",
       "      <td>0.0</td>\n",
       "      <td>1.0</td>\n",
       "      <td>PFE</td>\n",
       "      <td>2019-01-02</td>\n",
       "      <td>NaN</td>\n",
       "    </tr>\n",
       "    <tr>\n",
       "      <th>2019-01-02</th>\n",
       "      <td>306.10</td>\n",
       "      <td>315.13</td>\n",
       "      <td>298.80</td>\n",
       "      <td>310.12</td>\n",
       "      <td>62.024000</td>\n",
       "      <td>11658600.0</td>\n",
       "      <td>0.0</td>\n",
       "      <td>1.0</td>\n",
       "      <td>TSLA</td>\n",
       "      <td>2019-01-02</td>\n",
       "      <td>NaN</td>\n",
       "    </tr>\n",
       "  </tbody>\n",
       "</table>\n",
       "</div>"
      ],
      "text/plain": [
       "            1. open  2. high  3. low  4. close  5. adjusted close   6. volume  \\\n",
       "2019-01-02   237.00   242.20  233.25    240.00         220.802700  20278421.0   \n",
       "2019-01-02    39.02    40.72   38.76     40.40          37.935801  10648013.0   \n",
       "2019-01-02    43.12    43.50   42.64     43.25          37.587547  25076212.0   \n",
       "2019-01-02   306.10   315.13  298.80    310.12          62.024000  11658600.0   \n",
       "\n",
       "            7. dividend amount  8. split coefficient  Ticker       date  \\\n",
       "2019-01-02                 0.0                   1.0  BT-A.L 2019-01-02   \n",
       "2019-01-02                 0.0                   1.0      MS 2019-01-02   \n",
       "2019-01-02                 0.0                   1.0     PFE 2019-01-02   \n",
       "2019-01-02                 0.0                   1.0    TSLA 2019-01-02   \n",
       "\n",
       "            change_in_price  \n",
       "2019-01-02              NaN  \n",
       "2019-01-02              NaN  \n",
       "2019-01-02              NaN  \n",
       "2019-01-02              NaN  "
      ]
     },
     "execution_count": 45,
     "metadata": {},
     "output_type": "execute_result"
    }
   ],
   "source": [
    "mask = data_dated['Ticker'] != data_dated['Ticker'].shift(1)\n",
    "\n",
    "data_dated['change_in_price']= np.where(mask==True, np.nan, data_dated['change_in_price'])\n",
    "\n",
    "data_dated[data_dated.isna().any(axis=1)]"
   ]
  },
  {
   "cell_type": "code",
   "execution_count": 44,
   "metadata": {},
   "outputs": [
    {
     "data": {
      "text/html": [
       "<div>\n",
       "<style scoped>\n",
       "    .dataframe tbody tr th:only-of-type {\n",
       "        vertical-align: middle;\n",
       "    }\n",
       "\n",
       "    .dataframe tbody tr th {\n",
       "        vertical-align: top;\n",
       "    }\n",
       "\n",
       "    .dataframe thead th {\n",
       "        text-align: right;\n",
       "    }\n",
       "</style>\n",
       "<table border=\"1\" class=\"dataframe\">\n",
       "  <thead>\n",
       "    <tr style=\"text-align: right;\">\n",
       "      <th></th>\n",
       "      <th>1. open</th>\n",
       "      <th>2. high</th>\n",
       "      <th>3. low</th>\n",
       "      <th>4. close</th>\n",
       "      <th>5. adjusted close</th>\n",
       "      <th>6. volume</th>\n",
       "      <th>7. dividend amount</th>\n",
       "      <th>8. split coefficient</th>\n",
       "      <th>Ticker</th>\n",
       "      <th>date</th>\n",
       "      <th>change_in_price</th>\n",
       "    </tr>\n",
       "  </thead>\n",
       "  <tbody>\n",
       "    <tr>\n",
       "      <th>2019-01-02</th>\n",
       "      <td>237.00</td>\n",
       "      <td>242.2000</td>\n",
       "      <td>233.2500</td>\n",
       "      <td>240.00</td>\n",
       "      <td>220.8027</td>\n",
       "      <td>20278421.0</td>\n",
       "      <td>0.0</td>\n",
       "      <td>1.0</td>\n",
       "      <td>BT-A.L</td>\n",
       "      <td>2019-01-02</td>\n",
       "      <td>NaN</td>\n",
       "    </tr>\n",
       "    <tr>\n",
       "      <th>2019-01-03</th>\n",
       "      <td>240.10</td>\n",
       "      <td>242.6000</td>\n",
       "      <td>237.5500</td>\n",
       "      <td>240.10</td>\n",
       "      <td>220.8947</td>\n",
       "      <td>13975097.0</td>\n",
       "      <td>0.0</td>\n",
       "      <td>1.0</td>\n",
       "      <td>BT-A.L</td>\n",
       "      <td>2019-01-03</td>\n",
       "      <td>0.10</td>\n",
       "    </tr>\n",
       "    <tr>\n",
       "      <th>2019-01-04</th>\n",
       "      <td>241.00</td>\n",
       "      <td>241.9000</td>\n",
       "      <td>236.4500</td>\n",
       "      <td>237.35</td>\n",
       "      <td>218.3646</td>\n",
       "      <td>19484073.0</td>\n",
       "      <td>0.0</td>\n",
       "      <td>1.0</td>\n",
       "      <td>BT-A.L</td>\n",
       "      <td>2019-01-04</td>\n",
       "      <td>-2.75</td>\n",
       "    </tr>\n",
       "    <tr>\n",
       "      <th>2019-01-07</th>\n",
       "      <td>239.95</td>\n",
       "      <td>242.0000</td>\n",
       "      <td>237.0660</td>\n",
       "      <td>237.95</td>\n",
       "      <td>218.9167</td>\n",
       "      <td>15507525.0</td>\n",
       "      <td>0.0</td>\n",
       "      <td>1.0</td>\n",
       "      <td>BT-A.L</td>\n",
       "      <td>2019-01-07</td>\n",
       "      <td>0.60</td>\n",
       "    </tr>\n",
       "    <tr>\n",
       "      <th>2019-01-08</th>\n",
       "      <td>237.75</td>\n",
       "      <td>238.9000</td>\n",
       "      <td>229.4000</td>\n",
       "      <td>231.00</td>\n",
       "      <td>212.5226</td>\n",
       "      <td>26557234.0</td>\n",
       "      <td>0.0</td>\n",
       "      <td>1.0</td>\n",
       "      <td>BT-A.L</td>\n",
       "      <td>2019-01-08</td>\n",
       "      <td>-6.95</td>\n",
       "    </tr>\n",
       "    <tr>\n",
       "      <th>...</th>\n",
       "      <td>...</td>\n",
       "      <td>...</td>\n",
       "      <td>...</td>\n",
       "      <td>...</td>\n",
       "      <td>...</td>\n",
       "      <td>...</td>\n",
       "      <td>...</td>\n",
       "      <td>...</td>\n",
       "      <td>...</td>\n",
       "      <td>...</td>\n",
       "      <td>...</td>\n",
       "    </tr>\n",
       "    <tr>\n",
       "      <th>2020-07-24</th>\n",
       "      <td>111.85</td>\n",
       "      <td>113.6000</td>\n",
       "      <td>110.7000</td>\n",
       "      <td>112.35</td>\n",
       "      <td>112.3500</td>\n",
       "      <td>16502854.0</td>\n",
       "      <td>0.0</td>\n",
       "      <td>1.0</td>\n",
       "      <td>BT-A.L</td>\n",
       "      <td>2020-07-24</td>\n",
       "      <td>-0.40</td>\n",
       "    </tr>\n",
       "    <tr>\n",
       "      <th>2020-07-27</th>\n",
       "      <td>111.95</td>\n",
       "      <td>112.2816</td>\n",
       "      <td>108.0500</td>\n",
       "      <td>108.05</td>\n",
       "      <td>108.0500</td>\n",
       "      <td>19115944.0</td>\n",
       "      <td>0.0</td>\n",
       "      <td>1.0</td>\n",
       "      <td>BT-A.L</td>\n",
       "      <td>2020-07-27</td>\n",
       "      <td>-4.30</td>\n",
       "    </tr>\n",
       "    <tr>\n",
       "      <th>2020-07-28</th>\n",
       "      <td>109.55</td>\n",
       "      <td>112.1000</td>\n",
       "      <td>107.4179</td>\n",
       "      <td>109.95</td>\n",
       "      <td>109.9500</td>\n",
       "      <td>26656445.0</td>\n",
       "      <td>0.0</td>\n",
       "      <td>1.0</td>\n",
       "      <td>BT-A.L</td>\n",
       "      <td>2020-07-28</td>\n",
       "      <td>1.90</td>\n",
       "    </tr>\n",
       "    <tr>\n",
       "      <th>2020-07-29</th>\n",
       "      <td>110.00</td>\n",
       "      <td>113.0000</td>\n",
       "      <td>108.4163</td>\n",
       "      <td>111.90</td>\n",
       "      <td>111.9000</td>\n",
       "      <td>19329051.0</td>\n",
       "      <td>0.0</td>\n",
       "      <td>1.0</td>\n",
       "      <td>BT-A.L</td>\n",
       "      <td>2020-07-29</td>\n",
       "      <td>1.95</td>\n",
       "    </tr>\n",
       "    <tr>\n",
       "      <th>2020-07-30</th>\n",
       "      <td>111.50</td>\n",
       "      <td>111.7000</td>\n",
       "      <td>107.1500</td>\n",
       "      <td>107.85</td>\n",
       "      <td>107.8500</td>\n",
       "      <td>18842811.0</td>\n",
       "      <td>0.0</td>\n",
       "      <td>1.0</td>\n",
       "      <td>BT-A.L</td>\n",
       "      <td>2020-07-30</td>\n",
       "      <td>-4.05</td>\n",
       "    </tr>\n",
       "  </tbody>\n",
       "</table>\n",
       "<p>400 rows × 11 columns</p>\n",
       "</div>"
      ],
      "text/plain": [
       "            1. open   2. high    3. low  4. close  5. adjusted close  \\\n",
       "2019-01-02   237.00  242.2000  233.2500    240.00           220.8027   \n",
       "2019-01-03   240.10  242.6000  237.5500    240.10           220.8947   \n",
       "2019-01-04   241.00  241.9000  236.4500    237.35           218.3646   \n",
       "2019-01-07   239.95  242.0000  237.0660    237.95           218.9167   \n",
       "2019-01-08   237.75  238.9000  229.4000    231.00           212.5226   \n",
       "...             ...       ...       ...       ...                ...   \n",
       "2020-07-24   111.85  113.6000  110.7000    112.35           112.3500   \n",
       "2020-07-27   111.95  112.2816  108.0500    108.05           108.0500   \n",
       "2020-07-28   109.55  112.1000  107.4179    109.95           109.9500   \n",
       "2020-07-29   110.00  113.0000  108.4163    111.90           111.9000   \n",
       "2020-07-30   111.50  111.7000  107.1500    107.85           107.8500   \n",
       "\n",
       "             6. volume  7. dividend amount  8. split coefficient  Ticker  \\\n",
       "2019-01-02  20278421.0                 0.0                   1.0  BT-A.L   \n",
       "2019-01-03  13975097.0                 0.0                   1.0  BT-A.L   \n",
       "2019-01-04  19484073.0                 0.0                   1.0  BT-A.L   \n",
       "2019-01-07  15507525.0                 0.0                   1.0  BT-A.L   \n",
       "2019-01-08  26557234.0                 0.0                   1.0  BT-A.L   \n",
       "...                ...                 ...                   ...     ...   \n",
       "2020-07-24  16502854.0                 0.0                   1.0  BT-A.L   \n",
       "2020-07-27  19115944.0                 0.0                   1.0  BT-A.L   \n",
       "2020-07-28  26656445.0                 0.0                   1.0  BT-A.L   \n",
       "2020-07-29  19329051.0                 0.0                   1.0  BT-A.L   \n",
       "2020-07-30  18842811.0                 0.0                   1.0  BT-A.L   \n",
       "\n",
       "                 date  change_in_price  \n",
       "2019-01-02 2019-01-02              NaN  \n",
       "2019-01-03 2019-01-03             0.10  \n",
       "2019-01-04 2019-01-04            -2.75  \n",
       "2019-01-07 2019-01-07             0.60  \n",
       "2019-01-08 2019-01-08            -6.95  \n",
       "...               ...              ...  \n",
       "2020-07-24 2020-07-24            -0.40  \n",
       "2020-07-27 2020-07-27            -4.30  \n",
       "2020-07-28 2020-07-28             1.90  \n",
       "2020-07-29 2020-07-29             1.95  \n",
       "2020-07-30 2020-07-30            -4.05  \n",
       "\n",
       "[400 rows x 11 columns]"
      ]
     },
     "execution_count": 44,
     "metadata": {},
     "output_type": "execute_result"
    }
   ],
   "source": [
    "data_dated.head(400)"
   ]
  },
  {
   "cell_type": "code",
   "execution_count": null,
   "metadata": {},
   "outputs": [],
   "source": []
  },
  {
   "cell_type": "code",
   "execution_count": 8,
   "metadata": {},
   "outputs": [],
   "source": [
    "# df_inidicators = pd.DataFrame (data, columns = ['First Column Name','Second Column Name',...])"
   ]
  },
  {
   "cell_type": "code",
   "execution_count": 18,
   "metadata": {},
   "outputs": [
    {
     "data": {
      "text/plain": [
       "(2103, 11)"
      ]
     },
     "execution_count": 18,
     "metadata": {},
     "output_type": "execute_result"
    }
   ],
   "source": [
    "data_dated.shape"
   ]
  },
  {
   "cell_type": "code",
   "execution_count": null,
   "metadata": {},
   "outputs": [],
   "source": [
    "data_dated.sort_index(inplace=True)"
   ]
  },
  {
   "cell_type": "code",
   "execution_count": null,
   "metadata": {},
   "outputs": [],
   "source": [
    "time.sleep(20)"
   ]
  },
  {
   "cell_type": "code",
   "execution_count": null,
   "metadata": {},
   "outputs": [],
   "source": [
    "# *****************************Technical Indicators*******************************************************************"
   ]
  },
  {
   "cell_type": "code",
   "execution_count": null,
   "metadata": {},
   "outputs": [],
   "source": [
    "# *****************************RSI*******************************************************************\n",
    "\n",
    "# getting the date of the previous day\n",
    "yday= date.today()- timedelta(1) \n",
    "\n",
    "# technical indicators from alphavantage\n",
    "ti = TechIndicators(key = 'SUXOFAIGXM6HEP9Y', output_format = 'pandas')\n",
    "\n",
    "# obtaining  inidcator from alpha vantage\n",
    "stockRSI, meta_data= ti.get_rsi(symbol = sym, interval = 'daily',time_period = 20, series_type='close')\n",
    "\n",
    "# resting index so that date is no longer the index\n",
    "stockRSI.reset_index(inplace = True) \n",
    "\n",
    "# sorting date column in decending order\n",
    "stockRSI.sort_values(by=['date'], inplace=True, ascending=False)\n",
    "\n",
    "# filtering date \n",
    "mask = (stockRSI['date'] > '2018-11-29') & (stockRSI['date'] <=pd.to_datetime(yday))\n",
    "\n",
    "stockRSI = stockRSI.loc[mask]\n",
    "\n",
    "\n",
    "stockRSI.head(20)\n",
    "\n",
    "# resetting index \n",
    "stockRSI.set_index('date', inplace=True)\n",
    "\n",
    "\n",
    "data_dated['RSI']= stockRSI[['RSI']].copy()\n",
    "\n",
    "    "
   ]
  },
  {
   "cell_type": "code",
   "execution_count": null,
   "metadata": {},
   "outputs": [],
   "source": [
    "# *****************************EMA*******************************************************************\n",
    "\n",
    "\n",
    "# obtaining EMA inidcator from alpha vantage\n",
    "stockEMA,q= ti.get_ema(symbol = sym, interval = 'daily', time_period = 20)\n",
    "\n",
    "# resting index so that date is no longer the index\n",
    "stockEMA.reset_index(inplace = True) \n",
    "\n",
    "# sorting date column in decending order\n",
    "stockEMA.sort_values(by=['date'], inplace=True, ascending=False)\n",
    "\n",
    "# filtering date \n",
    "mask = (stockEMA['date'] > '2018-11-29') & (stockEMA['date'] <=pd.to_datetime(yday))\n",
    "\n",
    "stockEMA = stockEMA.loc[mask]\n",
    "\n",
    "\n",
    "stockEMA.head(20)\n",
    "\n",
    "# resetting index \n",
    "stockEMA.set_index('date', inplace=True)\n",
    "\n",
    "\n",
    "data_dated['EMA']= stockEMA[['EMA']].copy()\n",
    "\n"
   ]
  },
  {
   "cell_type": "code",
   "execution_count": null,
   "metadata": {},
   "outputs": [],
   "source": [
    "# *****************************MACD*******************************************************************\n",
    "\n",
    "# obtaining MACD inidcator from alpha vantage\n",
    "stockMACD,q= ti.get_macd(symbol = sym, interval = 'daily', fastperiod = 12, slowperiod = 26, signalperiod = 9)\n",
    "\n",
    "# resting index so that date is no longer the index\n",
    "stockMACD.reset_index(inplace = True) \n",
    "\n",
    "# sorting date column in decending order\n",
    "stockMACD.sort_values(by=['date'], inplace=True, ascending=False)\n",
    "\n",
    "\n",
    "# filtering date \n",
    "mask = (stockMACD['date'] > '2018-11-29') & (stockMACD['date'] <=pd.to_datetime(yday))\n",
    "\n",
    "stockMACD = stockMACD.loc[mask]\n",
    "\n",
    "\n",
    "stockMACD.head(20)\n",
    "\n",
    "# resetting index \n",
    "stockMACD.set_index('date', inplace=True)\n",
    "\n",
    "\n",
    "data_dated['MACD']= stockMACD[['MACD']].copy()\n",
    "\n",
    "\n",
    "\n"
   ]
  },
  {
   "cell_type": "code",
   "execution_count": null,
   "metadata": {},
   "outputs": [],
   "source": [
    "# ***********************************CCI*******************************************************************\n",
    "stockCCI, q = ti.get_cci(symbol = sym, interval = 'daily', time_period = 20)\n",
    "\n",
    "# resting index so that date is no longer the index\n",
    "stockCCI.reset_index(inplace = True) \n",
    "\n",
    "# sorting date column in decending order\n",
    "stockCCI.sort_values(by=['date'], inplace=True, ascending=False)\n",
    "\n",
    "# filtering date \n",
    "mask = (stockCCI['date'] > '2018-11-29') & (stockCCI['date'] <=pd.to_datetime(yday))\n",
    "\n",
    "stockCCI = stockCCI.loc[mask]\n",
    "\n",
    "\n",
    "stockCCI.head(20)\n",
    "\n",
    "# resetting index \n",
    "stockCCI.set_index('date', inplace=True)\n",
    "\n",
    "\n",
    "data_dated['CCI']= stockCCI[['CCI']].copy()\n"
   ]
  },
  {
   "cell_type": "code",
   "execution_count": null,
   "metadata": {},
   "outputs": [],
   "source": [
    "data_dated.head(20)"
   ]
  },
  {
   "cell_type": "code",
   "execution_count": null,
   "metadata": {},
   "outputs": [],
   "source": [
    "time.sleep(20)"
   ]
  },
  {
   "cell_type": "code",
   "execution_count": null,
   "metadata": {},
   "outputs": [],
   "source": [
    "# ***********************************ROC*******************************************************************\n",
    "stockROC, meta_data = ti.get_roc(symbol=sym, interval='daily', time_period=20, series_type='close')\n",
    "\n",
    "# resting index so that date is no longer the index\n",
    "stockROC.reset_index(inplace = True) \n",
    "\n",
    "# sorting date column in decending order\n",
    "stockROC.sort_values(by=['date'], inplace=True, ascending=False)\n",
    "\n",
    "\n",
    "# filtering date \n",
    "mask = (stockROC['date'] > '2018-11-29') & (stockROC['date'] <=pd.to_datetime(yday))\n",
    "\n",
    "stockROC = stockROC.loc[mask]\n",
    "\n",
    "\n",
    "stockROC.head(20)\n",
    "\n",
    "# resetting index \n",
    "stockROC.set_index('date', inplace=True)\n",
    "\n",
    "\n",
    "data_dated['ROC']= stockROC[['ROC']].copy()\n",
    "\n"
   ]
  },
  {
   "cell_type": "code",
   "execution_count": null,
   "metadata": {},
   "outputs": [],
   "source": [
    "time.sleep(20)"
   ]
  },
  {
   "cell_type": "code",
   "execution_count": null,
   "metadata": {},
   "outputs": [],
   "source": [
    "# ***********************************ADX*******************************************************************\n",
    "stockAD, meta_data = ti.get_adx(symbol=sym, interval='daily', time_period=20)\n",
    "\n",
    "\n",
    "# resting index so that date is no longer the index\n",
    "stockAD.reset_index(inplace = True) \n",
    "\n",
    "# sorting date column in decending order\n",
    "stockAD.sort_values(by=['date'], inplace=True, ascending=False)\n",
    "\n",
    "# filtering date \n",
    "mask = (stockAD['date'] > '2018-11-29') & (stockAD['date'] <=pd.to_datetime(yday))\n",
    "\n",
    "stockAD = stockAD.loc[mask]\n",
    "\n",
    "\n",
    "stockAD.head(20)\n",
    "\n",
    "# resetting index \n",
    "stockAD.set_index('date', inplace=True)\n",
    "\n",
    "\n",
    "data_dated['ADX']= stockAD[['ADX']].copy()\n",
    "# data_dated['SlowD']= stockAD[['SlowD']].copy()\n"
   ]
  },
  {
   "cell_type": "code",
   "execution_count": null,
   "metadata": {},
   "outputs": [],
   "source": [
    "# ***********************************CMO*******************************************************************\n",
    "\n",
    "\n",
    "# obtaining CMO inidcator from alpha vantage\n",
    "stockCMO,q= ti.get_cmo(symbol = sym, interval = 'daily')\n",
    "\n",
    "# resting index so that date is no longer the index\n",
    "stockCMO.reset_index(inplace = True) \n",
    "\n",
    "# sorting date column in decending order\n",
    "stockCMO.sort_values(by=['date'], inplace=True, ascending=False)\n",
    "\n",
    "# filtering date \n",
    "mask = (stockCMO['date'] > '2018-11-29') & (stockCMO['date'] <=pd.to_datetime(yday))\n",
    "\n",
    "stockCMO = stockCMO.loc[mask]\n",
    "\n",
    "\n",
    "stockCMO.head(20)\n",
    "\n",
    "# resetting index \n",
    "stockCMO.set_index('date', inplace=True)\n",
    "\n",
    "\n",
    "data_dated['CMO']= stockCMO[['CMO']].copy()"
   ]
  },
  {
   "cell_type": "code",
   "execution_count": null,
   "metadata": {},
   "outputs": [],
   "source": [
    "data_dated['priceChange']=data_dated['1. open']-data_dated['4. close']"
   ]
  },
  {
   "cell_type": "code",
   "execution_count": null,
   "metadata": {},
   "outputs": [],
   "source": [
    "for index, row in data_dated.iterrows():\n",
    "    if( row['priceChange'] >0):\n",
    "        data_dated.at[index, 'class']= 'UP'\n",
    "    else:\n",
    "          data_dated.at[index, 'class']= 'DOWN'"
   ]
  },
  {
   "cell_type": "code",
   "execution_count": null,
   "metadata": {},
   "outputs": [],
   "source": [
    "data = {'RSI':  data_dated['RSI'],\n",
    "        'EMA': data_dated['EMA'],\n",
    "         'MACD': data_dated['MACD'],\n",
    "         'CCI': data_dated['CCI'],\n",
    "         'ROC': data_dated['ROC'],\n",
    "         'ADX': data_dated['ADX'],\n",
    "         'CMO': data_dated['CMO'],\n",
    "         'Class': data_dated['class']\n",
    "         \n",
    "        }\n",
    "\n",
    "df_prediction = pd.DataFrame (data, columns = ['Class','RSI', 'EMA', 'MACD', 'CCI', 'ROC', 'ADX', 'CMO'])\n",
    "df_prediction.head()"
   ]
  },
  {
   "cell_type": "code",
   "execution_count": null,
   "metadata": {},
   "outputs": [],
   "source": [
    "df_prediction= df_prediction.dropna()"
   ]
  },
  {
   "cell_type": "code",
   "execution_count": null,
   "metadata": {},
   "outputs": [],
   "source": [
    "df_prediction[pd.isnull(df_prediction).any(axis=1)]"
   ]
  },
  {
   "cell_type": "code",
   "execution_count": null,
   "metadata": {},
   "outputs": [],
   "source": [
    "\n",
    "independent= df_prediction.iloc[0:, 1:7]\n",
    "# independent.head÷"
   ]
  },
  {
   "cell_type": "code",
   "execution_count": null,
   "metadata": {},
   "outputs": [],
   "source": [
    "df_prediction.shape"
   ]
  },
  {
   "cell_type": "code",
   "execution_count": null,
   "metadata": {},
   "outputs": [],
   "source": [
    "independent.shape"
   ]
  },
  {
   "cell_type": "code",
   "execution_count": null,
   "metadata": {},
   "outputs": [],
   "source": [
    "data_dep={\"Class\":df_prediction['Class']}\n",
    "dependent= pd.DataFrame (data_dep, columns = ['Class'])"
   ]
  },
  {
   "cell_type": "code",
   "execution_count": null,
   "metadata": {},
   "outputs": [],
   "source": [
    "dependent.shape"
   ]
  },
  {
   "cell_type": "code",
   "execution_count": null,
   "metadata": {},
   "outputs": [],
   "source": [
    "le_class= LabelEncoder()\n",
    "\n",
    "dependent['Class_n']= le_class.fit_transform(dependent[\"Class\"])"
   ]
  },
  {
   "cell_type": "code",
   "execution_count": null,
   "metadata": {},
   "outputs": [],
   "source": [
    "dependent= dependent.drop(['Class'], axis='columns')"
   ]
  },
  {
   "cell_type": "code",
   "execution_count": null,
   "metadata": {},
   "outputs": [],
   "source": [
    "# dependent= dependent.values"
   ]
  },
  {
   "cell_type": "code",
   "execution_count": null,
   "metadata": {},
   "outputs": [],
   "source": [
    "# dependent.head()"
   ]
  },
  {
   "cell_type": "code",
   "execution_count": null,
   "metadata": {},
   "outputs": [],
   "source": [
    "x_train, x_test,y_train,y_test= train_test_split(independent, dependent, test_size= 0.33, stratify=dependent, random_state= 101)"
   ]
  },
  {
   "cell_type": "code",
   "execution_count": null,
   "metadata": {},
   "outputs": [],
   "source": [
    "y_train.value_counts(normalize =True)"
   ]
  },
  {
   "cell_type": "code",
   "execution_count": null,
   "metadata": {},
   "outputs": [],
   "source": [
    "y_test.value_counts(normalize=True)"
   ]
  },
  {
   "cell_type": "code",
   "execution_count": null,
   "metadata": {},
   "outputs": [],
   "source": [
    "x_train.shape, y_train.shape"
   ]
  },
  {
   "cell_type": "code",
   "execution_count": null,
   "metadata": {},
   "outputs": [],
   "source": [
    "x_test.shape, y_test.shape"
   ]
  },
  {
   "cell_type": "code",
   "execution_count": null,
   "metadata": {},
   "outputs": [],
   "source": [
    "# //random state ensure we get the same results everytime we run a model\n",
    "dt_model = DecisionTreeClassifier(random_state=10)"
   ]
  },
  {
   "cell_type": "code",
   "execution_count": null,
   "metadata": {},
   "outputs": [],
   "source": [
    "df_prediction[pd.isnull(df_prediction).any(axis=1)]"
   ]
  },
  {
   "cell_type": "code",
   "execution_count": null,
   "metadata": {},
   "outputs": [],
   "source": [
    "# np.isnan(x_train)\n",
    "# np.nan_to_num(x_train)\n",
    "\n",
    "np.isnan(x_train)"
   ]
  },
  {
   "cell_type": "code",
   "execution_count": null,
   "metadata": {},
   "outputs": [],
   "source": [
    "print(x_test[x_test.isin(x_train)])"
   ]
  },
  {
   "cell_type": "code",
   "execution_count": null,
   "metadata": {},
   "outputs": [],
   "source": [
    "#fitting the model \n",
    "dt_model.fit(x_train,y_train)"
   ]
  },
  {
   "cell_type": "code",
   "execution_count": null,
   "metadata": {},
   "outputs": [],
   "source": [
    "# //checking the accuracy of the model on the training set\n",
    "dt_model.score(x_train, y_train)"
   ]
  },
  {
   "cell_type": "code",
   "execution_count": null,
   "metadata": {},
   "outputs": [],
   "source": [
    "dt_model.score(x_test, y_test)"
   ]
  },
  {
   "cell_type": "code",
   "execution_count": null,
   "metadata": {},
   "outputs": [],
   "source": [
    "time.sleep(20)"
   ]
  },
  {
   "cell_type": "code",
   "execution_count": null,
   "metadata": {},
   "outputs": [],
   "source": []
  }
 ],
 "metadata": {
  "kernelspec": {
   "display_name": "Python 3",
   "language": "python",
   "name": "python3"
  },
  "language_info": {
   "codemirror_mode": {
    "name": "ipython",
    "version": 3
   },
   "file_extension": ".py",
   "mimetype": "text/x-python",
   "name": "python",
   "nbconvert_exporter": "python",
   "pygments_lexer": "ipython3",
   "version": "3.8.5"
  }
 },
 "nbformat": 4,
 "nbformat_minor": 2
}
